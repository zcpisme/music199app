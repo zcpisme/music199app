{
 "cells": [
  {
   "cell_type": "code",
   "execution_count": 3,
   "metadata": {
    "cell_id": "fb77078a-f036-45c7-b125-f567c451055a",
    "deepnote_cell_height": 441,
    "deepnote_cell_type": "code",
    "deepnote_to_be_reexecuted": false,
    "execution_millis": 5,
    "execution_start": 1653084719573,
    "source_hash": "300147e0",
    "tags": []
   },
   "outputs": [],
   "source": [
    "# Start writing code here...\n",
    "import pandas as pd\n",
    "import numpy as np\n",
    "import altair as alt\n",
    "\n",
    "from sklearn.model_selection import train_test_split\n",
    "\n",
    "from numpy import mean\n",
    "from numpy import absolute\n",
    "from numpy import std\n",
    "from sklearn.model_selection import cross_val_score\n",
    "from sklearn.model_selection import RepeatedKFold\n",
    "from sklearn.metrics import mean_squared_error\n",
    "\n",
    "import joblib\n",
    "\n",
    "from sklearn.linear_model import LinearRegression\n",
    "\n",
    "from sklearn.neighbors import KNeighborsRegressor\n",
    "\n",
    "from sklearn.ensemble import RandomForestRegressor"
   ]
  },
  {
   "cell_type": "code",
   "execution_count": 4,
   "metadata": {
    "cell_id": "93c251a766eb4b1985b75067b2ca4e79",
    "deepnote_cell_height": 117,
    "deepnote_cell_type": "code",
    "deepnote_to_be_reexecuted": false,
    "execution_millis": 578,
    "execution_start": 1653084719592,
    "source_hash": "4bbec2aa",
    "tags": []
   },
   "outputs": [],
   "source": [
    "linear = joblib.load('linear.pkl')\n",
    "knn = joblib.load('knn.pkl')\n",
    "rf = joblib.load('rf.pkl')"
   ]
  },
  {
   "cell_type": "code",
   "execution_count": 5,
   "metadata": {
    "cell_id": "d2d852be59d14976be13ac4f3e1b2440",
    "deepnote_cell_height": 135,
    "deepnote_cell_type": "code",
    "deepnote_to_be_reexecuted": false,
    "execution_millis": 11,
    "execution_start": 1653084721178,
    "source_hash": "98f624bb",
    "tags": []
   },
   "outputs": [],
   "source": [
    "genre = ['rnb', 'rap', 'electronic', 'rock', 'new age', 'classical', 'reggae',\n",
    "       'blues', 'country', 'world', 'folk', 'easy listening', 'jazz', 'vocal',\n",
    "       'children\\'s', 'punk', 'alternative', 'spoken word', 'pop',\n",
    "       'heavy metal']"
   ]
  },
  {
   "cell_type": "code",
   "execution_count": 6,
   "metadata": {
    "cell_id": "0d80bd4302774c51ab2e0a85a7243b54",
    "deepnote_cell_height": 117,
    "deepnote_cell_type": "code",
    "deepnote_to_be_reexecuted": false,
    "execution_millis": 7,
    "execution_start": 1653084722294,
    "source_hash": "7d0e5bb9",
    "tags": []
   },
   "outputs": [],
   "source": [
    "import pickle\n",
    "with open('democol', 'rb') as fp:\n",
    "    col = pickle.load(fp)"
   ]
  },
  {
   "cell_type": "code",
   "execution_count": 7,
   "metadata": {
    "cell_id": "40f94361864c4abeb921a7ae137b29a3",
    "deepnote_cell_height": 855,
    "deepnote_cell_type": "code",
    "deepnote_to_be_reexecuted": false,
    "execution_millis": 12,
    "execution_start": 1653084727554,
    "source_hash": "580eb4a1",
    "tags": []
   },
   "outputs": [],
   "source": [
    "def mypredict(age = 22,country = 'US',gender = 'm', displayLinear = False):\n",
    "\n",
    "    genre = ['rnb', 'rap', 'electronic', 'rock', 'new age', 'classical', 'reggae',\n",
    "       'blues', 'country', 'world', 'folk', 'easy listening', 'jazz', 'vocal',\n",
    "       'children\\'s', 'punk', 'alternative', 'spoken word', 'pop',\n",
    "       'heavy metal']\n",
    "\n",
    "    mydf = pd.DataFrame(columns = col)\n",
    "    mydf.loc[0] =0\n",
    "\n",
    "\n",
    "    mydf.loc[0,'age'] = age\n",
    "    mydf.loc[0,'coun_'+country] = 1\n",
    "    mydf.loc[0,'gender_'+gender] = 1\n",
    "\n",
    "\n",
    "    prob_linear = linear.predict(mydf).reshape(-1)\n",
    "    prob_knn = knn.predict(mydf).reshape(-1)\n",
    "    prob_rf = rf.predict(mydf).reshape(-1)\n",
    "\n",
    "    def mySort(sub_li):\n",
    "    # reverse = None (Sorts in Ascending order)\n",
    "    # key is set to sort using second element of \n",
    "    # sublist lambda has been used\n",
    "        sub_li.sort(key = lambda x: x[1],reverse = True)\n",
    "        return sub_li\n",
    "\n",
    "    if displayLinear == True:\n",
    "        print('by Linear Model, the recommendation probability are:')\n",
    "        ascending = mySort(list(zip(genre,prob_linear)))\n",
    "        for a,b in ascending:\n",
    "            print(a,':',\"{:.3f}\".format(b*100),'%')\n",
    "\n",
    "    print('\\n by KNN Model, the recommendation probability are:')\n",
    "    ascending = mySort(list(zip(genre,prob_knn)))\n",
    "    for a,b in ascending:\n",
    "        print(a,':',\"{:.3f}\".format(b*100),'%')\n",
    "\n",
    "    print('\\n by RF Model, the recommendation probability are:')\n",
    "    ascending = mySort(list(zip(genre,prob_rf)))\n",
    "    for a,b in ascending:\n",
    "        print(a,':',\"{:.3f}\".format(b*100),'%')\n",
    "\n",
    "    return 'recommendation ends'"
   ]
  },
  {
   "cell_type": "code",
   "execution_count": 8,
   "metadata": {
    "cell_id": "a61b72400d4647b39f44d8604d6047df",
    "deepnote_cell_height": 753.1875,
    "deepnote_cell_type": "code",
    "deepnote_output_heights": [
     null,
     21.1875
    ],
    "deepnote_to_be_reexecuted": false,
    "execution_millis": 821,
    "execution_start": 1653084894649,
    "owner_user_id": "877fbc68-b806-4228-a850-6f3a042a0df3",
    "source_hash": "18db63d9",
    "tags": []
   },
   "outputs": [
    {
     "name": "stdout",
     "output_type": "stream",
     "text": [
      "by Linear Model, the recommendation probability are:\n",
      "rock : 19.983 %\n",
      "alternative : 16.454 %\n",
      "electronic : 11.639 %\n",
      "pop : 11.445 %\n",
      "punk : 7.487 %\n",
      "heavy metal : 6.658 %\n",
      "folk : 5.639 %\n",
      "jazz : 3.506 %\n",
      "blues : 2.965 %\n",
      "rap : 2.849 %\n",
      "easy listening : 1.965 %\n",
      "rnb : 1.732 %\n",
      "classical : 1.516 %\n",
      "world : 1.445 %\n",
      "reggae : 1.200 %\n",
      "country : 1.162 %\n",
      "vocal : 1.075 %\n",
      "new age : 0.968 %\n",
      "spoken word : 0.298 %\n",
      "children's : 0.015 %\n",
      "\n",
      " by KNN Model, the recommendation probability are:\n",
      "rock : 17.984 %\n",
      "pop : 14.719 %\n",
      "alternative : 12.058 %\n",
      "folk : 8.925 %\n",
      "blues : 6.722 %\n",
      "easy listening : 5.715 %\n",
      "electronic : 4.805 %\n",
      "jazz : 4.717 %\n",
      "punk : 4.270 %\n",
      "world : 3.803 %\n",
      "vocal : 3.127 %\n",
      "country : 3.033 %\n",
      "classical : 2.765 %\n",
      "new age : 2.586 %\n",
      "heavy metal : 1.563 %\n",
      "rnb : 1.548 %\n",
      "reggae : 0.786 %\n",
      "rap : 0.719 %\n",
      "spoken word : 0.148 %\n",
      "children's : 0.007 %\n",
      "\n",
      " by RF Model, the recommendation probability are:\n",
      "rock : 18.817 %\n",
      "alternative : 14.094 %\n",
      "pop : 13.308 %\n",
      "electronic : 9.302 %\n",
      "folk : 7.615 %\n",
      "punk : 5.438 %\n",
      "blues : 5.315 %\n",
      "jazz : 4.256 %\n",
      "easy listening : 3.533 %\n",
      "heavy metal : 3.381 %\n",
      "classical : 2.748 %\n",
      "country : 2.560 %\n",
      "world : 2.394 %\n",
      "vocal : 1.975 %\n",
      "new age : 1.595 %\n",
      "rnb : 1.481 %\n",
      "rap : 1.085 %\n",
      "reggae : 0.864 %\n",
      "spoken word : 0.231 %\n",
      "children's : 0.007 %\n"
     ]
    },
    {
     "data": {
      "text/plain": [
       "'recommendation ends'"
      ]
     },
     "execution_count": 8,
     "metadata": {},
     "output_type": "execute_result"
    }
   ],
   "source": [
    "mypredict(48,country='DE',gender='m',displayLinear=True)"
   ]
  },
  {
   "cell_type": "code",
   "execution_count": null,
   "metadata": {
    "cell_id": "dbd7063bdf5a4c668f5ef2d579896abd",
    "deepnote_cell_height": 81,
    "deepnote_cell_type": "code",
    "deepnote_to_be_reexecuted": false,
    "execution_millis": 1,
    "execution_start": 1653084452514,
    "source_hash": "b623e53d",
    "tags": []
   },
   "outputs": [],
   "source": []
  },
  {
   "cell_type": "markdown",
   "metadata": {
    "created_in_deepnote_cell": true,
    "deepnote_cell_type": "markdown",
    "tags": []
   },
   "source": [
    "<a style='text-decoration:none;line-height:16px;display:flex;color:#5B5B62;padding:10px;justify-content:end;' href='https://deepnote.com?utm_source=created-in-deepnote-cell&projectId=55223644-bc63-45b3-8a51-b429560c61e0' target=\"_blank\">\n",
    "<img alt='Created in deepnote.com' style='display:inline;max-height:16px;margin:0px;margin-right:7.5px;' src='data:image/svg+xml;base64,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' > </img>\n",
    "Created in <span style='font-weight:600;margin-left:4px;'>Deepnote</span></a>"
   ]
  }
 ],
 "metadata": {
  "deepnote": {},
  "deepnote_execution_queue": [],
  "deepnote_notebook_id": "b6cd7e47-31a1-4e96-b9e7-08e090f88239",
  "kernelspec": {
   "display_name": "Python 3 (ipykernel)",
   "language": "python",
   "name": "python3"
  },
  "language_info": {
   "codemirror_mode": {
    "name": "ipython",
    "version": 3
   },
   "file_extension": ".py",
   "mimetype": "text/x-python",
   "name": "python",
   "nbconvert_exporter": "python",
   "pygments_lexer": "ipython3",
   "version": "3.8.8"
  }
 },
 "nbformat": 4,
 "nbformat_minor": 2
}
